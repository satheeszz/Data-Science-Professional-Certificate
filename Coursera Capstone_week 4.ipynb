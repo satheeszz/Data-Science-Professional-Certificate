{
    "cells": [
        {
            "cell_type": "markdown",
            "metadata": {
                "collapsed": true
            },
            "source": " # Coursera IBM Datscience Capstone Project"
        },
        {
            "cell_type": "markdown",
            "metadata": {},
            "source": "## I. Objective"
        },
        {
            "cell_type": "markdown",
            "metadata": {},
            "source": "<font size=\"4.5\"> The purpose of this document is to describe the background of problem & data acquisition methods used for IBM data science capstone project </font>"
        },
        {
            "cell_type": "markdown",
            "metadata": {},
            "source": "## II. Introduction/Business Problem"
        },
        {
            "cell_type": "markdown",
            "metadata": {},
            "source": "<font size=\"4.5\"> Singapore is an island nation with most number of visitors at any given time. Considering a well-known tourist destination, Singapore already has a lot websites in place to recommend places to visit or stay. However, all these available websites focus mostly on usual tourist attractions which may not be of interest for backpackers. <br> <br> The purpose of this project is to, <br>\n- Choose one of the recently opened MRT lines in Singapore, Downtown line (DT) and analyze the most common venues located along the MRT line so that visitors can choose a place to stay near any DT MRT station and explore all the venues. <br> \n- The project also intends to cluster the MRT stations based on the venues so that the visitors can choose to spend more time on the stations with venues of their interest.<br>\n- The project not only provides the top most common venues but also provides a table of 10 most common venues <br> <br>\n\nFor the project, MRT station names are extracted from the Wikipedia page on Singapore MRT lines and common venues in the neighborhood of MRT stations in downtown line <font> <br>\n"
        },
        {
            "cell_type": "markdown",
            "metadata": {},
            "source": "## III. Data Acquisition"
        },
        {
            "cell_type": "markdown",
            "metadata": {},
            "source": "<font size=\"4.5\"> This project will use the following data source: <br>\nMRT station names and associated details are retrieved from the open data source in **Wikipedia page on all the MRT line in Singapore**. <br> \n__Website__: https://en.wikipedia.org/wiki/List_of_Singapore_MRT_stations <br> <br>\nThe original data source contains stations for all MRT lines with names in multiple languages, alpha numeric codes, interchanges and other details like opening date etc. <br>For the purpose of this project, only the alpha numeric code and respective station names in English has been chosen. Then the data has been modified to choose locations only in downtown line. <br> <br>\nFor the MRT stations of interest, location data has been retrieved using **Geopy package**. The top venues recommendations are retrieved from **Foursquare API**. FourSquare API to explore neighborhoods in selected towns in Singapore. The Foursquare API was also used to explore the most common venues along the downtown MRT line. <font> <br> \n"
        },
        {
            "cell_type": "markdown",
            "metadata": {},
            "source": "## IV Methodology"
        },
        {
            "cell_type": "markdown",
            "metadata": {},
            "source": "<font size=\"4.5\"> To be continued in week 5 <font>"
        },
        {
            "cell_type": "code",
            "execution_count": null,
            "metadata": {},
            "outputs": [],
            "source": ""
        }
    ],
    "metadata": {
        "kernelspec": {
            "display_name": "Python 3.6",
            "language": "python",
            "name": "python3"
        },
        "language_info": {
            "codemirror_mode": {
                "name": "ipython",
                "version": 3
            },
            "file_extension": ".py",
            "mimetype": "text/x-python",
            "name": "python",
            "nbconvert_exporter": "python",
            "pygments_lexer": "ipython3",
            "version": "3.6.9"
        }
    },
    "nbformat": 4,
    "nbformat_minor": 1
}